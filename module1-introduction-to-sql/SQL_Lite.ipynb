{
 "cells": [
  {
   "cell_type": "code",
   "execution_count": 2,
   "metadata": {},
   "outputs": [],
   "source": [
    "import sqlite3"
   ]
  },
  {
   "cell_type": "code",
   "execution_count": 3,
   "metadata": {},
   "outputs": [],
   "source": [
    "#flat database like a txt file. \n",
    "#If attaching MySQL to jupyter notebook you need to set up a connection stream\n",
    "conn = sqlite3.connect('rpg_db.sqlite3')#go look for a database, if it doesn't have it, it creates one\n",
    "#this is a connection string"
   ]
  },
  {
   "cell_type": "code",
   "execution_count": 4,
   "metadata": {},
   "outputs": [
    {
     "name": "stdout",
     "output_type": "stream",
     "text": [
      "Open as needed\n"
     ]
    }
   ],
   "source": [
    "#sql has a cursor, we have to set it up first\n",
    "cursor = conn.cursor()\n",
    "(print('Open as needed'))\n",
    "#when you run something, it connects to the connection stream, when you are done the connection string needs to be disconnected"
   ]
  },
  {
   "cell_type": "code",
   "execution_count": 180,
   "metadata": {},
   "outputs": [],
   "source": [
    "# #conn.commit\n",
    "# #conn.close\n",
    "# #sql portion will be identical\n",
    "# cursor.execute('''CREATE TABLE test\n",
    "# (ID INT PRIMARY KEY NOT NULL,\n",
    "#  NAME    TEXT      NOT NULL,\n",
    "#  AGE     INT       NOT NULL,\n",
    "#  ADDRESS CHAR(50),\n",
    "#  MARKS  );''')"
   ]
  },
  {
   "cell_type": "code",
   "execution_count": 181,
   "metadata": {},
   "outputs": [],
   "source": [
    "# cursor.execute(\"INSERT INTO test (ID,NAME,AGE,ADDRESS,MARKS) VALUES (1, 'Rohan', 14, 'Delhi', 200)\");\n",
    "# cursor.execute(\"INSERT INTO test (ID,NAME,AGE,ADDRESS,MARKS) VALUES (2, 'Aohan', 14, 'Delhi', 100)\");\n",
    "# cursor.execute(\"INSERT INTO test (ID,NAME,AGE,ADDRESS,MARKS) VALUES (3, 'Eohan', 14, 'Delhi', 220)\");\n",
    "# cursor.execute(\"INSERT INTO test (ID,NAME,AGE,ADDRESS,MARKS) VALUES (4, 'Gohan', 14, 'Delhi', 230)\");\n",
    "# cursor.execute(\"INSERT INTO test (ID,NAME,AGE,ADDRESS,MARKS) VALUES (5, 'Hohan', 14, 'Delhi', 300)\");\n",
    "# conn.commit()"
   ]
  },
  {
   "cell_type": "code",
   "execution_count": 182,
   "metadata": {},
   "outputs": [],
   "source": [
    "# for row in cursor.execute(\"SELECT LEN(id), name,\"):\n",
    "#     print(\"ID = \", row[0])\n",
    "#     print(\"NAME = \", row[1])\n",
    "#     print(\"MARKS = \", row[2], \"\\n\")\n",
    "# conn.commit()"
   ]
  },
  {
   "cell_type": "code",
   "execution_count": 185,
   "metadata": {},
   "outputs": [
    {
     "name": "stdout",
     "output_type": "stream",
     "text": [
      "[(1, 'Libero facere dolore, as', 0, 0), (2, 'Qui', 0, 0), (3, 'Laborios', 0, 0)]\n"
     ]
    }
   ],
   "source": [
    "cursor.execute(\"select * from armory_item limit 3;\")\n",
    "# print(row[0])\n",
    "#     print(\"NAME = \", row[1])\n",
    "#     print(\"MARKS = \", row[2], \"\\n\")\n",
    "# conn.commit()\n",
    "results = cursor.fetchall()\n",
    "print(results)"
   ]
  },
  {
   "cell_type": "code",
   "execution_count": 209,
   "metadata": {},
   "outputs": [
    {
     "name": "stdout",
     "output_type": "stream",
     "text": [
      "174\n"
     ]
    }
   ],
   "source": [
    "# How many total Characters are there?\n",
    "cursor.execute(\"select length(name) from armory_item;\")\n",
    "# print(row[0])\n",
    "#     print(\"NAME = \", row[1])\n",
    "#     print(\"MARKS = \", row[2], \"\\n\")\n",
    "# conn.commit()\n",
    "results = cursor.fetchall()\n",
    "print(len(results))"
   ]
  },
  {
   "cell_type": "code",
   "execution_count": 195,
   "metadata": {},
   "outputs": [
    {
     "name": "stdout",
     "output_type": "stream",
     "text": [
      "302 total characters\n"
     ]
    }
   ],
   "source": [
    "query1 = 'SELECT COUNT(*) FROM charactercreator_character;'\n",
    "answer1 = cursor.execute(query1).fetchone()[0]\n",
    "print(answer1, 'total characters')"
   ]
  },
  {
   "cell_type": "code",
   "execution_count": 197,
   "metadata": {},
   "outputs": [
    {
     "name": "stdout",
     "output_type": "stream",
     "text": [
      "[('Ab illum invento', 1), ('Ab voluptas se', 3), ('Acc', 2), ('Accusa', 1), ('Accusantium qu', 1), ('Accusantium vitae n', 1), ('Ad necess', 1), ('Adipisci voluptas', 1), ('Aliqu', 2), ('Aliquam n', 1), ('Amet quo fugit aliquam sequi', 1), ('Aperiam sit', 1), ('Architecto i', 1), ('Architecto repudian', 2), ('Asperi', 2), ('At id recusandae expl', 2), ('At sint ducimus nostrum i', 1), ('Autem eos voluptates off', 1), ('Autem lib', 1), ('Autem mollitia fuga lauda', 2)]\n"
     ]
    }
   ],
   "source": [
    "# How many of each specific subclass?\n",
    "another_thing = cursor.execute('''SELECT cc.name, COUNT(item_ptr_id) FROM charactercreator_character_inventory cci\n",
    "                                INNER JOIN charactercreator_character cc on cc.character_id = cci.character_id\n",
    "                                INNER JOIN armory_item ai on cci.item_id = ai.item_id\n",
    "                                INNER JOIN armory_weapon aw on ai.item_id = aw.item_ptr_id\n",
    "                                GROUP BY cc.name\n",
    "                                ORDER BY cc.name LIMIT 20''')\n",
    "print(another_thing.fetchall())"
   ]
  },
  {
   "cell_type": "code",
   "execution_count": 204,
   "metadata": {},
   "outputs": [
    {
     "name": "stdout",
     "output_type": "stream",
     "text": [
      "[(174,)]\n"
     ]
    }
   ],
   "source": [
    "# How many total Items?\n",
    "cursor.execute('SELECT COUNT(*) FROM armory_item')\n",
    "results = cursor.fetchall()\n",
    "print(results)"
   ]
  },
  {
   "cell_type": "code",
   "execution_count": 207,
   "metadata": {},
   "outputs": [
    {
     "name": "stdout",
     "output_type": "stream",
     "text": [
      "203\n"
     ]
    }
   ],
   "source": [
    "# How many of the Items are weapons? How many are not?\n",
    "cursor.execute('''SELECT item_id FROM charactercreator_character_inventory\n",
    "                INNER JOIN armory_weapon ON armory_weapon.item_ptr_id =  charactercreator_character_inventory.item_id''')\n",
    "results = cursor.fetchall()\n",
    "print(len(results))\n",
    "\n",
    "# SELECT a1, a2, b1, b2\n",
    "# FROM A\n",
    "# INNER JOIN B on B.f = A.f;\n",
    "\n",
    "\n",
    "# SELECT column_list\n",
    "# FROM t1\n",
    "# INNER JOIN t2 ON join_condition1\n",
    "# INNER JOIN t3 ON join_condition2"
   ]
  },
  {
   "cell_type": "code",
   "execution_count": 8,
   "metadata": {},
   "outputs": [
    {
     "ename": "SyntaxError",
     "evalue": "EOL while scanning string literal (<ipython-input-8-442f34d89aae>, line 1)",
     "output_type": "error",
     "traceback": [
      "\u001b[1;36m  File \u001b[1;32m\"<ipython-input-8-442f34d89aae>\"\u001b[1;36m, line \u001b[1;32m1\u001b[0m\n\u001b[1;33m    cursor.execute('SELECT item_id FROM charactercreator_character_inventory\u001b[0m\n\u001b[1;37m                                                                            ^\u001b[0m\n\u001b[1;31mSyntaxError\u001b[0m\u001b[1;31m:\u001b[0m EOL while scanning string literal\n"
     ]
    }
   ],
   "source": [
    "cursor.execute('''SELECT item_id FROM charactercreator_character_inventory\n",
    "                OUTER JOIN armory_weapon ON armory_weapon.item_ptr_id =  charactercreator_character_inventory.item_id''')\n",
    "results = cursor.fetchall()\n",
    "print(len(results))"
   ]
  },
  {
   "cell_type": "code",
   "execution_count": 46,
   "metadata": {},
   "outputs": [
    {
     "name": "stdout",
     "output_type": "stream",
     "text": [
      "[(1, 20, 3), (2, 93, 3), (3, 8, 2), (4, 21, 4), (5, 7, 4), (6, 93, 1), (7, 38, 5), (8, 43, 3), (9, 32, 4), (10, 117, 4), (11, 54, 3), (12, 65, 3), (13, 38, 4), (14, 34, 4), (15, 34, 4), (16, 87, 1), (17, 64, 5), (18, 17, 5), (19, 5, 3), (20, 156, 1), (21, 33, 4), (22, 41, 3), (23, 33, 3), (24, 8, 1), (25, 50, 2), (26, 112, 2), (27, 10, 5), (28, 51, 1), (29, 107, 4), (30, 69, 4), (31, 9, 3), (32, 111, 2), (33, 64, 2), (34, 5, 4), (35, 3, 5), (36, 29, 5), (37, 20, 5), (38, 80, 5), (39, 58, 3), (40, 26, 3), (41, 112, 2), (42, 65, 3), (43, 131, 1), (44, 38, 1), (45, 12, 4), (46, 84, 1), (47, 35, 4), (48, 45, 4), (49, 2, 4), (50, 29, 1), (51, 73, 3), (52, 115, 2), (53, 3, 5), (54, 55, 1), (55, 49, 4), (56, 156, 1), (57, 36, 3), (58, 5, 4), (59, 87, 4), (60, 87, 4), (61, 95, 2), (62, 115, 1), (63, 5, 5), (64, 66, 3), (65, 8, 5), (66, 3, 5), (67, 89, 1), (68, 54, 4), (69, 43, 3), (70, 139, 3), (71, 11, 3), (72, 128, 1), (73, 19, 1), (74, 106, 2), (75, 99, 1), (76, 24, 1), (77, 2, 4), (78, 21, 3), (79, 106, 1), (80, 8, 3), (81, 4, 5), (82, 12, 4), (83, 9, 3), (84, 3, 4), (85, 65, 5), (86, 15, 5), (87, 40, 1), (88, 97, 4), (89, 38, 2), (90, 4, 2), (91, 5, 5), (92, 16, 5), (93, 5, 4), (94, 58, 4), (95, 14, 5), (96, 77, 5), (97, 17, 3), (98, 10, 2), (99, 158, 1), (100, 40, 5), (101, 22, 5), (102, 26, 3), (103, 45, 5), (104, 40, 5), (105, 43, 3), (106, 84, 4), (107, 116, 1), (108, 47, 4), (109, 92, 1), (110, 90, 1), (111, 122, 1), (112, 127, 2), (113, 142, 2), (114, 10, 5), (115, 10, 5), (116, 20, 1), (117, 15, 4), (118, 9, 5), (119, 1, 5), (120, 50, 3), (121, 59, 3), (122, 87, 2), (123, 46, 3), (124, 98, 1), (125, 8, 3), (126, 162, 1), (127, 133, 3), (128, 111, 3), (129, 4, 5), (130, 63, 1), (131, 4, 3), (132, 15, 4), (133, 8, 3), (134, 127, 4), (135, 13, 5), (136, 18, 4), (137, 53, 3), (138, 65, 3), (139, 23, 5), (140, 7, 3), (141, 171, 1), (142, 50, 5), (143, 55, 2), (144, 117, 1), (145, 25, 4), (146, 18, 4), (147, 163, 1), (148, 26, 4), (149, 121, 3), (150, 31, 3), (151, 57, 3), (152, 5, 3), (153, 20, 4), (154, 1, 3), (155, 15, 4), (156, 29, 5), (157, 110, 1), (158, 71, 1), (159, 40, 3), (160, 53, 5), (161, 83, 2), (162, 66, 2), (163, 21, 3), (164, 174, 1), (165, 14, 5), (166, 41, 4), (167, 53, 2), (168, 149, 1), (169, 143, 1), (170, 67, 4), (171, 27, 4), (172, 54, 2), (173, 89, 2), (174, 46, 2), (175, 55, 3), (176, 43, 3), (177, 3, 2), (178, 95, 2), (179, 5, 2), (180, 89, 1), (181, 7, 5), (182, 41, 1), (183, 6, 4), (184, 32, 4), (185, 50, 4), (186, 109, 2), (187, 133, 1), (188, 19, 2), (189, 27, 1), (190, 13, 4), (191, 37, 3), (192, 166, 2), (193, 28, 4), (194, 13, 5), (195, 22, 1), (196, 18, 4), (197, 25, 5), (198, 60, 5), (199, 164, 3), (200, 75, 1), (201, 9, 5), (202, 123, 1), (203, 32, 1), (204, 48, 1), (205, 63, 2), (206, 45, 5), (207, 71, 1), (208, 7, 2), (209, 107, 1), (210, 27, 3), (211, 53, 1), (212, 83, 2), (213, 38, 2), (214, 135, 1), (215, 68, 1), (216, 123, 3), (217, 73, 3), (218, 4, 2), (219, 71, 1), (220, 9, 4), (221, 33, 4), (222, 53, 2), (223, 91, 2), (224, 142, 1), (225, 26, 3), (226, 4, 2), (227, 103, 4), (228, 38, 2), (229, 54, 3), (230, 39, 1), (231, 1, 3), (232, 25, 4), (233, 3, 5), (234, 11, 1), (235, 28, 5), (236, 96, 1), (237, 39, 1), (238, 18, 5), (239, 88, 3), (240, 25, 3), (241, 68, 3), (242, 146, 1), (243, 5, 3), (244, 10, 4), (245, 37, 5), (246, 37, 3), (247, 105, 5), (248, 20, 1), (249, 25, 4), (250, 4, 4), (251, 17, 5), (252, 6, 2), (253, 13, 2), (254, 158, 1), (255, 48, 2), (256, 165, 2), (257, 54, 3), (258, 12, 4), (259, 27, 5), (260, 50, 4), (261, 7, 5), (262, 8, 4), (263, 13, 4), (264, 26, 5), (265, 116, 3), (266, 11, 5), (267, 14, 4), (268, 68, 1), (269, 81, 1), (270, 12, 1), (271, 68, 2), (272, 37, 2), (273, 43, 3), (274, 84, 3), (275, 8, 2), (276, 101, 1), (277, 23, 1), (278, 99, 1), (279, 34, 2), (280, 73, 5), (281, 19, 5), (282, 16, 4), (283, 29, 4), (284, 55, 1), (285, 3, 5), (286, 32, 1), (287, 32, 5), (288, 37, 3), (289, 52, 5), (290, 96, 5), (291, 10, 4), (292, 128, 2), (293, 112, 2), (294, 49, 5), (295, 113, 2), (296, 12, 3), (297, 31, 4), (298, 15, 2), (299, 19, 3), (300, 119, 1), (301, 52, 2), (302, 21, 5)]\n"
     ]
    }
   ],
   "source": [
    "query1 = 'SELECT character_id, item_id, COUNT(item_id) FROM charactercreator_character_inventory GROUP BY character_id'\n",
    "results = cursor.execute(query1).fetchall()\n",
    "print(results)"
   ]
  },
  {
   "cell_type": "code",
   "execution_count": 52,
   "metadata": {},
   "outputs": [
    {
     "name": "stdout",
     "output_type": "stream",
     "text": [
      "[(1, 20, 3), (2, 93, 3), (3, 8, 2), (4, 21, 4), (5, 7, 4), (6, 93, 1), (7, 38, 5), (8, 43, 3), (9, 32, 4), (10, 117, 4), (11, 54, 3), (12, 65, 3), (13, 38, 4), (14, 34, 4), (15, 34, 4), (16, 87, 1), (17, 64, 5), (18, 17, 5), (19, 5, 3), (20, 156, 1)]\n"
     ]
    }
   ],
   "source": [
    "# How many Items does each character have? (Return first 20 rows)\n",
    "query1 = 'SELECT character_id, item_id, COUNT(item_id) FROM charactercreator_character_inventory GROUP BY character_id LIMIT 20'\n",
    "# query2 = 'SELECT COUNT(*) FROM charactercreator_character_inventory;'\n",
    "results = cursor.execute(query1).fetchall()\n",
    "# results = cursor.execute(query2).fetchall()\n",
    "print(results)"
   ]
  },
  {
   "cell_type": "code",
   "execution_count": 45,
   "metadata": {},
   "outputs": [
    {
     "name": "stdout",
     "output_type": "stream",
     "text": [
      "23\n"
     ]
    }
   ],
   "source": [
    "# How many Items does each character have? (Return first 20 rows)\n",
    "query1 = 'SELECT character_id, item_id, COUNT(item_id) FROM charactercreator_character_inventory GROUP BY character_id;'\n",
    "# results = cursor.execute(query1).fetchone()\n",
    "total = 0\n",
    "# charid = 302\n",
    "for i in range(1,3):\n",
    "    total = total + cursor.execute(query1).fetchone()[i]\n",
    "print(total)\n",
    "\n",
    "# query1 = 'SELECT COUNT(*) FROM charactercreator_character;'\n",
    "# answer1 = cursor.execute(query1).fetchone()[0]\n",
    "# print(answer1, 'total characters')\n",
    "#                 SELECT COUNT(*) FROM charactercreator_character_inventory.chara;"
   ]
  },
  {
   "cell_type": "code",
   "execution_count": null,
   "metadata": {},
   "outputs": [],
   "source": [
    "# How many Weapons does each character have? (Return first 20 rows)\n"
   ]
  },
  {
   "cell_type": "code",
   "execution_count": 54,
   "metadata": {},
   "outputs": [
    {
     "name": "stdout",
     "output_type": "stream",
     "text": [
      "[(1, 20, 54.333333333333336), (2, 93, 113.66666666666667), (3, 8, 25.5), (4, 21, 80.75), (5, 7, 97.0), (6, 93, 93.0), (7, 38, 90.8), (8, 43, 70.0), (9, 32, 94.75), (10, 117, 128.0), (11, 54, 106.66666666666667), (12, 65, 102.0), (13, 38, 67.25), (14, 34, 52.0), (15, 34, 62.0), (16, 87, 87.0), (17, 64, 102.4), (18, 17, 58.6), (19, 5, 56.666666666666664), (20, 156, 156.0), (21, 33, 58.75), (22, 41, 82.66666666666667), (23, 33, 84.66666666666667), (24, 8, 8.0), (25, 50, 86.0), (26, 112, 130.5), (27, 10, 118.2), (28, 51, 51.0), (29, 107, 138.5), (30, 69, 107.5), (31, 9, 38.333333333333336), (32, 111, 126.5), (33, 64, 87.0), (34, 5, 96.75), (35, 3, 99.4), (36, 29, 102.4), (37, 20, 91.8), (38, 80, 126.0), (39, 58, 125.33333333333333), (40, 26, 68.33333333333333), (41, 112, 140.0), (42, 65, 96.0), (43, 131, 131.0), (44, 38, 38.0), (45, 12, 42.5), (46, 84, 84.0), (47, 35, 106.5), (48, 45, 88.75), (49, 2, 60.5), (50, 29, 29.0), (51, 73, 101.66666666666667), (52, 115, 123.0), (53, 3, 74.4), (54, 55, 55.0), (55, 49, 107.75), (56, 156, 156.0), (57, 36, 120.0), (58, 5, 68.0), (59, 87, 129.0), (60, 87, 121.75), (61, 95, 105.5), (62, 115, 115.0), (63, 5, 99.2), (64, 66, 120.0), (65, 8, 87.0), (66, 3, 93.4), (67, 89, 89.0), (68, 54, 102.0), (69, 43, 93.0), (70, 139, 154.0), (71, 11, 87.0), (72, 128, 128.0), (73, 19, 19.0), (74, 106, 122.5), (75, 99, 99.0), (76, 24, 24.0), (77, 2, 56.25), (78, 21, 62.333333333333336), (79, 106, 106.0), (80, 8, 86.33333333333333), (81, 4, 88.4), (82, 12, 67.75), (83, 9, 75.0), (84, 3, 101.25), (85, 65, 114.2), (86, 15, 50.6), (87, 40, 40.0), (88, 97, 128.0), (89, 38, 64.5), (90, 4, 85.0), (91, 5, 72.0), (92, 16, 79.6), (93, 5, 52.0), (94, 58, 92.5), (95, 14, 70.0), (96, 77, 130.8), (97, 17, 63.333333333333336), (98, 10, 48.5), (99, 158, 158.0), (100, 40, 87.0), (101, 22, 60.2), (102, 26, 54.0), (103, 45, 109.4), (104, 40, 85.2), (105, 43, 108.66666666666667), (106, 84, 117.5), (107, 116, 116.0), (108, 47, 112.0), (109, 92, 92.0), (110, 90, 90.0), (111, 122, 122.0), (112, 127, 142.0), (113, 142, 154.0), (114, 10, 73.0), (115, 10, 68.2), (116, 20, 20.0), (117, 15, 78.0), (118, 9, 103.0), (119, 1, 39.2), (120, 50, 78.33333333333333), (121, 59, 74.0), (122, 87, 124.5), (123, 46, 64.0), (124, 98, 98.0), (125, 8, 83.0), (126, 162, 162.0), (127, 133, 152.66666666666666), (128, 111, 140.0), (129, 4, 90.0), (130, 63, 63.0), (131, 4, 56.0), (132, 15, 63.25), (133, 8, 18.333333333333332), (134, 127, 144.0), (135, 13, 37.6), (136, 18, 81.0), (137, 53, 69.66666666666667), (138, 65, 89.0), (139, 23, 95.2), (140, 7, 50.666666666666664), (141, 171, 171.0), (142, 50, 120.6), (143, 55, 103.5), (144, 117, 117.0), (145, 25, 82.5), (146, 18, 51.5), (147, 163, 163.0), (148, 26, 91.25), (149, 121, 130.33333333333334), (150, 31, 87.33333333333333), (151, 57, 99.0), (152, 5, 89.66666666666667), (153, 20, 89.0), (154, 1, 32.333333333333336), (155, 15, 76.5), (156, 29, 108.6), (157, 110, 110.0), (158, 71, 71.0), (159, 40, 80.33333333333333), (160, 53, 95.8), (161, 83, 99.0), (162, 66, 101.0), (163, 21, 45.333333333333336), (164, 174, 174.0), (165, 14, 101.6), (166, 41, 108.5), (167, 53, 64.0), (168, 149, 149.0), (169, 143, 143.0), (170, 67, 119.25), (171, 27, 88.75), (172, 54, 78.0), (173, 89, 99.5), (174, 46, 51.0), (175, 55, 97.0), (176, 43, 108.0), (177, 3, 69.5), (178, 95, 127.5), (179, 5, 38.0), (180, 89, 89.0), (181, 7, 88.2), (182, 41, 41.0), (183, 6, 97.0), (184, 32, 102.75), (185, 50, 99.5), (186, 109, 124.5), (187, 133, 133.0), (188, 19, 35.0), (189, 27, 27.0), (190, 13, 61.0), (191, 37, 105.66666666666667), (192, 166, 168.0), (193, 28, 78.75), (194, 13, 99.2), (195, 22, 22.0), (196, 18, 101.25), (197, 25, 104.6), (198, 60, 96.6), (199, 164, 169.33333333333334), (200, 75, 75.0), (201, 9, 38.2), (202, 123, 123.0), (203, 32, 32.0), (204, 48, 48.0), (205, 63, 89.5), (206, 45, 113.8), (207, 71, 71.0), (208, 7, 16.0), (209, 107, 107.0), (210, 27, 89.33333333333333), (211, 53, 53.0), (212, 83, 123.0), (213, 38, 77.0), (214, 135, 135.0), (215, 68, 68.0), (216, 123, 134.66666666666666), (217, 73, 103.0), (218, 4, 86.0), (219, 71, 71.0), (220, 9, 63.25), (221, 33, 72.5), (222, 53, 108.5), (223, 91, 127.0), (224, 142, 142.0), (225, 26, 89.33333333333333), (226, 4, 9.5), (227, 103, 136.75), (228, 38, 81.0), (229, 54, 94.0), (230, 39, 39.0), (231, 1, 18.333333333333332), (232, 25, 48.75), (233, 3, 61.6), (234, 11, 11.0), (235, 28, 57.2), (236, 96, 96.0), (237, 39, 39.0), (238, 18, 98.4), (239, 88, 125.33333333333333), (240, 25, 80.66666666666667), (241, 68, 128.33333333333334), (242, 146, 146.0), (243, 5, 60.666666666666664), (244, 10, 60.25), (245, 37, 110.4), (246, 37, 82.33333333333333), (247, 105, 129.8), (248, 20, 20.0), (249, 25, 60.25), (250, 4, 92.75), (251, 17, 92.6), (252, 6, 87.5), (253, 13, 76.5), (254, 158, 158.0), (255, 48, 63.5), (256, 165, 169.0), (257, 54, 108.66666666666667), (258, 12, 59.25), (259, 27, 60.4), (260, 50, 82.5), (261, 7, 97.0), (262, 8, 70.0), (263, 13, 80.25), (264, 26, 104.4), (265, 116, 129.33333333333334), (266, 11, 66.6), (267, 14, 74.25), (268, 68, 68.0), (269, 81, 81.0), (270, 12, 12.0), (271, 68, 114.5), (272, 37, 71.5), (273, 43, 82.0), (274, 84, 93.0), (275, 8, 77.5), (276, 101, 101.0), (277, 23, 23.0), (278, 99, 99.0), (279, 34, 95.0), (280, 73, 124.4), (281, 19, 86.4), (282, 16, 96.25), (283, 29, 99.0), (284, 55, 55.0), (285, 3, 108.0), (286, 32, 32.0), (287, 32, 105.6), (288, 37, 70.66666666666667), (289, 52, 85.0), (290, 96, 118.0), (291, 10, 50.0), (292, 128, 139.0), (293, 112, 135.0), (294, 49, 107.4), (295, 113, 140.0), (296, 12, 90.33333333333333), (297, 31, 65.75), (298, 15, 22.0), (299, 19, 65.0), (300, 119, 119.0), (301, 52, 101.0), (302, 21, 69.4)]\n"
     ]
    }
   ],
   "source": [
    "# On average, how many Items does each Character have?\n",
    "query1 = 'SELECT character_id, item_id, AVG(item_id) FROM charactercreator_character_inventory GROUP BY character_id'\n",
    "# query2 = 'SELECT COUNT(*) FROM charactercreator_character_inventory;'\n",
    "results = cursor.execute(query1).fetchall()\n",
    "# results = cursor.execute(query2).fetchall()\n",
    "print(results)"
   ]
  },
  {
   "cell_type": "code",
   "execution_count": 174,
   "metadata": {},
   "outputs": [],
   "source": [
    "conn.close()"
   ]
  },
  {
   "cell_type": "code",
   "execution_count": null,
   "metadata": {},
   "outputs": [],
   "source": [
    "# How many total Characters are there?\n",
    "# How many of each specific subclass?\n",
    "# How many total Items?\n",
    "# How many of the Items are weapons? How many are not?\n",
    "# How many Items does each character have? (Return first 20 rows)\n",
    "# How many Weapons does each character have? (Return first 20 rows)\n",
    "# On average, how many Items does each Character have?\n",
    "# On average, how many Weapons does each character have?"
   ]
  },
  {
   "cell_type": "code",
   "execution_count": null,
   "metadata": {},
   "outputs": [],
   "source": []
  },
  {
   "cell_type": "code",
   "execution_count": null,
   "metadata": {},
   "outputs": [],
   "source": []
  }
 ],
 "metadata": {
  "kernelspec": {
   "display_name": "Python 3",
   "language": "python",
   "name": "python3"
  },
  "language_info": {
   "codemirror_mode": {
    "name": "ipython",
    "version": 3
   },
   "file_extension": ".py",
   "mimetype": "text/x-python",
   "name": "python",
   "nbconvert_exporter": "python",
   "pygments_lexer": "ipython3",
   "version": "3.7.3"
  }
 },
 "nbformat": 4,
 "nbformat_minor": 2
}
